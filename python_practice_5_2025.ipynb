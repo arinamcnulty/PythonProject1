{
 "nbformat": 4,
 "nbformat_minor": 0,
 "metadata": {
  "colab": {
   "provenance": []
  },
  "kernelspec": {
   "name": "python3",
   "display_name": "Python 3 (ipykernel)",
   "language": "python"
  },
  "language_info": {
   "name": "python"
  }
 },
 "cells": [
  {
   "cell_type": "markdown",
   "source": [
    "# I. OOP"
   ],
   "metadata": {
    "id": "5qV_sehzFCTp"
   }
  },
  {
   "cell_type": "markdown",
   "source": [
    "1. (6б). Створіть клас Building, додайте три атрибути, один з яких має значення за замовчуванням та два методи на свій розсуд."
   ],
   "metadata": {
    "id": "tx_U_hOALyfg"
   }
  },
  {
   "cell_type": "code",
   "source": [
    "class Building:\n",
    "    def __init__(self, name, height, color=\"white\"):\n",
    "        self.name = name\n",
    "        self.height = height\n",
    "        self.color = color\n",
    "    def describe(self):\n",
    "        return f\"Будівля '{self.name}', висота: {self.height} м, колір: {self.color}\"\n",
    "    def is_skyscraper(self):\n",
    "        return self.height > 100\n",
    "b1 = Building(\"Sky Tower\", 111)\n",
    "print(b1.describe())\n",
    "print(b1.is_skyscraper())"
   ],
   "metadata": {
    "id": "-Vf895KaL88N",
    "ExecuteTime": {
     "end_time": "2025-03-25T13:51:13.352788Z",
     "start_time": "2025-03-25T13:51:13.349708Z"
    }
   },
   "outputs": [
    {
     "name": "stdout",
     "output_type": "stream",
     "text": [
      "Будівля 'Sky Tower', висота: 111 м, колір: white\n",
      "True\n"
     ]
    }
   ],
   "execution_count": 3
  },
  {
   "cell_type": "markdown",
   "source": [
    "2. (2б). Створіть два обʼєкти цього класу, де один з обʼєктів створюється із дефолтним значенням атрибуту. На одному обʼєкті отримайте значення його атрибуту, а на іншому викличте один з його методів."
   ],
   "metadata": {
    "id": "X_UlOMB0L93w"
   }
  },
  {
   "cell_type": "code",
   "source": [
    "class Building:\n",
    "    def __init__(self, name, height, color=\"white\"):\n",
    "        self.name = name\n",
    "        self.height = height\n",
    "        self.color = color\n",
    "    def describe(self):\n",
    "        return f\"Будівля '{self.name}', висота: {self.height} м, колір: {self.color}\"\n",
    "    def is_skyscraper(self):\n",
    "        return self.height > 100\n",
    "b1 = Building(\"Sky Tower\", 111, \"blue\")\n",
    "b2 = Building(\"Mini House\", 8)\n",
    "print(b1.color)\n",
    "print(b2.describe())\n"
   ],
   "metadata": {
    "id": "7gBu0ESOMCpG",
    "ExecuteTime": {
     "end_time": "2025-03-25T13:52:32.061970Z",
     "start_time": "2025-03-25T13:52:32.058824Z"
    }
   },
   "outputs": [
    {
     "name": "stdout",
     "output_type": "stream",
     "text": [
      "blue\n",
      "Будівля 'Mini House', висота: 8 м, колір: white\n"
     ]
    }
   ],
   "execution_count": 4
  },
  {
   "cell_type": "markdown",
   "source": [
    "3. (5б). Створіть клас, де атрибути мають різні рівні доступу. Спробуйте отримати їхні значення та опишіть результати."
   ],
   "metadata": {
    "id": "HoqSCZt1MHn5"
   }
  },
  {
   "cell_type": "code",
   "source": [
    "class Laptop:\n",
    "    def __init__(self, brand, processor, year):\n",
    "        self.brand = brand              # публічний атрибут\n",
    "        self._processor = processor     # захищений атрибут\n",
    "        self.__year = year              # приватний атрибут\n",
    "device = Laptop(\"Lenovo\", \"Intel i5\", 2021)\n",
    "print(device.brand)\n",
    "print(device._processor)\n",
    "# print(device.__year)       # буде помилка: AttributeError\n",
    "print(device._Laptop__year)\n"
   ],
   "metadata": {
    "id": "r9b3vJxBMSPV",
    "ExecuteTime": {
     "end_time": "2025-03-25T13:58:05.666763Z",
     "start_time": "2025-03-25T13:58:05.663131Z"
    }
   },
   "outputs": [
    {
     "name": "stdout",
     "output_type": "stream",
     "text": [
      "Lenovo\n",
      "Intel i5\n",
      "2021\n"
     ]
    }
   ],
   "execution_count": 5
  },
  {
   "cell_type": "markdown",
   "source": [
    "4. (7б). Як ви розумієте термін self? Для чого використовується метод __init __?"
   ],
   "metadata": {
    "id": "5op2m2vgMSkZ"
   }
  },
  {
   "cell_type": "markdown",
   "source": [
    "*місце для відповіді-`self` — це посилання на обʼєкт, з яким працює клас.\n",
    "\n",
    "`__init__` — це метод, який запускається при створенні обʼєкта і задає йому початкові значення."
   ],
   "metadata": {
    "id": "DyiPqNRvMasx"
   }
  },
  {
   "cell_type": "markdown",
   "source": [
    "5. (9б). Створіть клас 3D-фігура без атрибутів, з методом get_volume для отримання об'єму фігури, що повертає 0 та __add __, який приймає self та other в якості аргументів, а повертає суму об'ємів 3d-фігур self та other."
   ],
   "metadata": {
    "id": "-6X8EGfjMd2y"
   }
  },
  {
   "cell_type": "code",
   "source": [
    "class Shape3D:\n",
    "    def get_volume(self):\n",
    "        return 0\n",
    "    def __add__(self, other):\n",
    "        return self.get_volume() + other.get_volume()\n",
    "fig1 = Shape3D()\n",
    "fig2 = Shape3D()\n",
    "print(fig1 + fig2)\n"
   ],
   "metadata": {
    "id": "4rvO_wYUMaEr",
    "ExecuteTime": {
     "end_time": "2025-03-25T14:05:42.020763Z",
     "start_time": "2025-03-25T14:05:42.016272Z"
    }
   },
   "outputs": [
    {
     "name": "stdout",
     "output_type": "stream",
     "text": [
      "0\n"
     ]
    }
   ],
   "execution_count": 6
  },
  {
   "cell_type": "markdown",
   "source": [
    "6. (11б). Створіть 2 дочірніх класи від 3d-фігура: Циліндр та Куб, які мають атрибути, необхідні для розрахунку об'єму. Визначте метод get_volume в кожному з них так, щоби вони розраховували об'єм у залежності від формули для кожного типу фігури. Створіть обʼєкт класу Циліндр та обʼєкт класу Куб. Виконайте операцію суми за допомогою оператора + між ними, аби знайти сумарний об'єм."
   ],
   "metadata": {
    "id": "SFcKnnv5Mo_z"
   }
  },
  {
   "cell_type": "code",
   "source": [
    "import math\n",
    "\n",
    "class Shape3D:\n",
    "    def get_volume(self):\n",
    "        return 0\n",
    "\n",
    "    def __add__(self, other):\n",
    "        return self.get_volume() + other.get_volume()\n",
    "\n",
    "class Cylinder(Shape3D):\n",
    "    def __init__(self, radius, height):\n",
    "        self.radius = radius\n",
    "        self.height = height\n",
    "\n",
    "    def get_volume(self):\n",
    "        return math.pi * (self.radius ** 2) * self.height\n",
    "\n",
    "class Cube(Shape3D):\n",
    "    def __init__(self, side):\n",
    "        self.side = side\n",
    "\n",
    "    def get_volume(self):\n",
    "        return self.side ** 3\n",
    "\n",
    "cyl = Cylinder(3, 5)\n",
    "cube = Cube(4)\n",
    "\n",
    "total_volume = cyl + cube\n",
    "print(total_volume)\n"
   ],
   "metadata": {
    "id": "H3GVNr69Muf3",
    "ExecuteTime": {
     "end_time": "2025-03-25T14:07:57.675592Z",
     "start_time": "2025-03-25T14:07:57.671540Z"
    }
   },
   "outputs": [
    {
     "name": "stdout",
     "output_type": "stream",
     "text": [
      "205.3716694115407\n"
     ]
    }
   ],
   "execution_count": 7
  },
  {
   "cell_type": "markdown",
   "source": [
    "7. (3б). Продемонструйте різницю між isinstance та issubclass."
   ],
   "metadata": {
    "id": "HCvR206YMvLK"
   }
  },
  {
   "cell_type": "code",
   "source": [
    "class Vehicle:\n",
    "    pass\n",
    "class Car(Vehicle):\n",
    "    pass\n",
    "my_car = Car()\n",
    "print(isinstance(my_car, Car))\n",
    "print(isinstance(my_car, Vehicle))\n",
    "print(issubclass(Car, Vehicle))\n",
    "print(issubclass(Vehicle, Car))\n"
   ],
   "metadata": {
    "id": "L_V1bBvDM0GN",
    "ExecuteTime": {
     "end_time": "2025-03-25T14:13:36.047999Z",
     "start_time": "2025-03-25T14:13:36.044406Z"
    }
   },
   "outputs": [
    {
     "name": "stdout",
     "output_type": "stream",
     "text": [
      "True\n",
      "True\n",
      "True\n",
      "False\n"
     ]
    }
   ],
   "execution_count": 11
  },
  {
   "cell_type": "markdown",
   "source": [
    "8. (13б). Створіть клас EWallet з приватними атрибутами balance та id. Реалізуйте методи поповнення та зняття коштів, забезпечивши належну інкапсуляцію. Підказка: використовуйте декоратори property та setter."
   ],
   "metadata": {
    "id": "jjsaBZ-iM0Qq"
   }
  },
  {
   "cell_type": "code",
   "source": [
    "class EWallet:\n",
    "    def __init__(self, wallet_id, initial_balance=0):\n",
    "        self.__id = wallet_id\n",
    "        self.__balance = initial_balance\n",
    "\n",
    "    @property\n",
    "    def balance(self):\n",
    "        return self.__balance\n",
    "\n",
    "    @property\n",
    "    def wallet_id(self):\n",
    "        return self.__id\n",
    "\n",
    "    def deposit(self, amount):\n",
    "        if amount > 0:\n",
    "            self.__balance += amount\n",
    "\n",
    "    def withdraw(self, amount):\n",
    "        if 0 < amount <= self.__balance:\n",
    "            self.__balance -= amount\n",
    "\n",
    "wallet = EWallet(\"WLT5678\", 200)\n",
    "wallet.deposit(80)\n",
    "wallet.withdraw(50)\n",
    "\n",
    "print(\"ID гаманця:\", wallet.wallet_id)\n",
    "print(\"Поточний баланс:\", wallet.balance)\n"
   ],
   "metadata": {
    "id": "xCvZ7lh8M7YA",
    "ExecuteTime": {
     "end_time": "2025-03-25T14:15:33.202353Z",
     "start_time": "2025-03-25T14:15:33.199034Z"
    }
   },
   "outputs": [
    {
     "name": "stdout",
     "output_type": "stream",
     "text": [
      "ID гаманця: WLT5678\n",
      "Поточний баланс: 230\n"
     ]
    }
   ],
   "execution_count": 13
  },
  {
   "cell_type": "markdown",
   "source": [
    "9. (11б). Створіть клас ShoppingCart, який містить список об'єктів типу Item. Реалізуйте методи для додавання айтемів, їх видалення та відображення списку айтемів."
   ],
   "metadata": {
    "id": "tIzL2SJTM8ft"
   }
  },
  {
   "cell_type": "code",
   "source": [
    "class Item:\n",
    "    def __init__(self, name, price):\n",
    "        self.name = name\n",
    "        self.price = price\n",
    "\n",
    "class ShoppingCart:\n",
    "    def __init__(self):\n",
    "        self.items = []\n",
    "\n",
    "    def add_item(self, item):\n",
    "        self.items.append(item)\n",
    "\n",
    "    def remove_item(self, item_name):\n",
    "        self.items = [item for item in self.items if item.name != item_name]\n",
    "\n",
    "    def show_items(self):\n",
    "        for item in self.items:\n",
    "            print(f\"{item.name} — {item.price} грн\")\n",
    "\n",
    "item1 = Item(\"Йогурт полуничний\", 31)\n",
    "item2 = Item(\"Йогурт персиковий\", 29)\n",
    "item3 = Item(\"Йогурт ванільний\", 34)\n",
    "\n",
    "cart = ShoppingCart()\n",
    "cart.add_item(item1)\n",
    "cart.add_item(item2)\n",
    "cart.add_item(item3)\n",
    "\n",
    "cart.remove_item(\"Йогурт персиковий\")\n",
    "cart.show_items()\n"
   ],
   "metadata": {
    "id": "HWxfJKLtNAUZ",
    "ExecuteTime": {
     "end_time": "2025-03-25T14:21:51.404012Z",
     "start_time": "2025-03-25T14:21:51.399492Z"
    }
   },
   "outputs": [
    {
     "name": "stdout",
     "output_type": "stream",
     "text": [
      "Йогурт полуничний — 31 грн\n",
      "Йогурт ванільний — 34 грн\n"
     ]
    }
   ],
   "execution_count": 15
  },
  {
   "cell_type": "markdown",
   "source": [
    "10. (13б). Створіть клас Vehicle з атрибутами brand (manufacturer) та production_age. Створіть ще один клас Engine з такими атрибутами, як type (ex. petrol) та size (volume, litres). Створіть клас Car, який успадковує обидва класи Vehicle та Engine. Продемонструйте використання множинної спадковості, створивши обʼєкт класу Car та отримавши mro для цього класу."
   ],
   "metadata": {
    "id": "lmV8pAwwNIqu"
   }
  },
  {
   "cell_type": "code",
   "source": [
    "class Vehicle:\n",
    "    def __init__(self, brand, production_age):\n",
    "        self.brand = brand\n",
    "        self.production_age = production_age\n",
    "\n",
    "class Engine:\n",
    "    def __init__(self, engine_type, size):\n",
    "        self.engine_type = engine_type\n",
    "        self.size = size\n",
    "\n",
    "class Bike(Vehicle, Engine):\n",
    "    def __init__(self, brand, production_age, engine_type, size):\n",
    "        Vehicle.__init__(self, brand, production_age)\n",
    "        Engine.__init__(self, engine_type, size)\n",
    "\n",
    "my_bike = Bike(\"HydroRider\", 2, \"водневий\", 1.5)\n",
    "print(\"Бренд транспорту:\", my_bike.brand)\n",
    "print(\"Вік транспорту:\", my_bike.production_age, \"роки\")\n",
    "print(\"Тип двигуна:\", my_bike.engine_type)\n",
    "print(\"Обʼєм паливної системи:\", my_bike.size, \"л\")\n",
    "print(\"Порядок спадкування (MRO):\", Bike.mro())\n"
   ],
   "metadata": {
    "id": "R49grKlWNPeN",
    "ExecuteTime": {
     "end_time": "2025-03-25T14:25:38.507268Z",
     "start_time": "2025-03-25T14:25:38.504097Z"
    }
   },
   "outputs": [
    {
     "name": "stdout",
     "output_type": "stream",
     "text": [
      "Бренд транспорту: HydroRider\n",
      "Вік транспорту: 2 роки\n",
      "Тип двигуна: водневий\n",
      "Обʼєм паливної системи: 1.5 л\n",
      "Порядок спадкування (MRO): [<class '__main__.Bike'>, <class '__main__.Vehicle'>, <class '__main__.Engine'>, <class 'object'>]\n"
     ]
    }
   ],
   "execution_count": 16
  },
  {
   "cell_type": "markdown",
   "source": [
    "# II. Iterator"
   ],
   "metadata": {
    "id": "dIJyUiNBFG8G"
   }
  },
  {
   "cell_type": "markdown",
   "source": [
    "11. (4б). Визначте рядок(str) з 4ма різними за значенням символами. Створіть ітератор на основі цього рядка. Викличте 5 разів функцію next на ітераторі, 4ри перших з них огорніть у ф-цію print()."
   ],
   "metadata": {
    "id": "13vsm0NyKIzL"
   }
  },
  {
   "cell_type": "code",
   "source": [
    "code = \"a768\"\n",
    "it = iter(code)\n",
    "\n",
    "print(next(it))\n",
    "print(next(it))\n",
    "print(next(it))\n",
    "print(next(it))\n",
    "\n",
    "try:\n",
    "    next(it)  # 5-й виклик — але вже без помилки\n",
    "except StopIteration:\n",
    "    pass  # або можна написати: print(\"Символів більше немає\")\n"
   ],
   "metadata": {
    "id": "81ntabAkKuz-",
    "ExecuteTime": {
     "end_time": "2025-03-25T14:30:22.279885Z",
     "start_time": "2025-03-25T14:30:22.277490Z"
    }
   },
   "outputs": [
    {
     "name": "stdout",
     "output_type": "stream",
     "text": [
      "a\n",
      "7\n",
      "6\n",
      "8\n"
     ]
    }
   ],
   "execution_count": 18
  },
  {
   "cell_type": "markdown",
   "source": "А що якщо викликати цю ж функцію на рядку?-вона буде працювати так, як і для будь-якого ітерабельного об'єкта, тобто по черзі перебирати символи рядка. Однак, якщо викликати next() більше разів, ніж є символів у рядку, це призведе до помилки StopIteration.",
   "metadata": {
    "id": "aekWHGXOLRsO"
   }
  },
  {
   "metadata": {},
   "cell_type": "markdown",
   "source": ""
  },
  {
   "cell_type": "code",
   "source": [
    "code = \"a768\"\n",
    "it = iter(code)\n",
    "\n",
    "#Викликаємо функцію next() 5 разів\n",
    "print(next(it))\n",
    "print(next(it))\n",
    "print(next(it))\n",
    "print(next(it))"
   ],
   "metadata": {
    "id": "mxATGsErLV1i",
    "ExecuteTime": {
     "end_time": "2025-03-25T14:34:38.558002Z",
     "start_time": "2025-03-25T14:34:38.555375Z"
    }
   },
   "outputs": [
    {
     "name": "stdout",
     "output_type": "stream",
     "text": [
      "a\n",
      "7\n",
      "6\n",
      "8\n"
     ]
    }
   ],
   "execution_count": 23
  },
  {
   "cell_type": "markdown",
   "source": [
    " 12. (5б). Опишіть своїми словами в одному реченні, як ви розумієте різницю між ітерабельними обʼєктами та ітераторами (можна на прикладі)."
   ],
   "metadata": {
    "id": "XwtMEopwJ4pH"
   }
  },
  {
   "cell_type": "markdown",
   "source": [
    "*місце для відповіді-Ітерабельний обʼєкт — це обʼєкт, по якому можна пройти за допомогою циклу, наприклад, список, а ітератор — це обʼєкт, який зберігає стан і дозволяє по черзі отримувати елементи цього ітерабельного обʼєкта за допомогою функції `next()`.\n",
    "**Приклад**: Список (`[1, 2, 3]`) — ітерабельний обʼєкт, а його ітератор дозволяє по черзі отримувати елементи через `next()`."
   ],
   "metadata": {
    "id": "-sHrODc3KFn8"
   }
  },
  {
   "cell_type": "markdown",
   "source": [
    "13. (11б). Створіть клас, що має визначений Iterator Protocol та при кожному виклику next повертає назву дня тижня, поки вони не вичерпаються. Зверніть увагу, що порядок має значення."
   ],
   "metadata": {
    "id": "E9qJWmNbK8Gl"
   }
  },
  {
   "cell_type": "code",
   "source": [
    "class WeekIterator:\n",
    "    def __init__(self):\n",
    "        self.days_of_week = [\"Понеділок\", \"Вівторок\", \"Середа\", \"Четвер\", \"Пʼятниця\", \"Субота\", \"Неділя\"]\n",
    "        self.index = 0\n",
    "    def __iter__(self):\n",
    "        return self\n",
    "    def __next__(self):\n",
    "        if self.index < len(self.days_of_week):\n",
    "            day = self.days_of_week[self.index]\n",
    "            self.index += 1\n",
    "            return day\n",
    "        else:\n",
    "            raise StopIteration\n",
    "week_iterator = WeekIterator()\n",
    "for day in week_iterator:\n",
    "    print(day)"
   ],
   "metadata": {
    "id": "cqx-g_RsLo6I",
    "ExecuteTime": {
     "end_time": "2025-03-25T14:36:49.106951Z",
     "start_time": "2025-03-25T14:36:49.103749Z"
    }
   },
   "outputs": [
    {
     "name": "stdout",
     "output_type": "stream",
     "text": [
      "Понеділок\n",
      "Вівторок\n",
      "Середа\n",
      "Четвер\n",
      "Пʼятниця\n",
      "Субота\n",
      "Неділя\n"
     ]
    }
   ],
   "execution_count": 25
  },
  {
   "cell_type": "markdown",
   "source": [
    "# Вітаю! Ви велика(ий) молодець, що впоралась(вся). Похваліть себе та побалуйте чимось приємним. Я Вами пишаюся."
   ],
   "metadata": {
    "id": "Z3E3S_s1Fv7-"
   }
  }
 ]
}
