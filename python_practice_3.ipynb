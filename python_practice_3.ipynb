{
 "nbformat": 4,
 "nbformat_minor": 0,
 "metadata": {
  "colab": {
   "provenance": []
  },
  "kernelspec": {
   "name": "python3",
   "display_name": "Python 3 (ipykernel)",
   "language": "python"
  },
  "language_info": {
   "name": "python"
  }
 },
 "cells": [
  {
   "cell_type": "markdown",
   "source": [
    "# I. Оператори порівняння та логічні оператори. Умови."
   ],
   "metadata": {
    "id": "qDEi2Pi-4yUC"
   }
  },
  {
   "cell_type": "markdown",
   "source": [
    "1. (5б) Створіть цілочисленну змінну зі своїм щасливим або улюбленим числом. Напишіть код, який би автоматизовував наступну задачу.\n",
    "\n",
    "Якщо число парне, помножте його на 2 та виведіть результат на екран.\n",
    "\n",
    "Але якщо число непарне, помножте його на 3 та додайте 1 і виведіть на екран."
   ],
   "metadata": {
    "id": "3v8D4Dkm43Ua"
   }
  },
  {
   "cell_type": "code",
   "metadata": {
    "id": "dlVjc-Nu4bmb",
    "ExecuteTime": {
     "end_time": "2025-02-27T14:46:54.510245Z",
     "start_time": "2025-02-27T14:46:54.506791Z"
    }
   },
   "source": [
    "num = 2\n",
    "if num % 2 == 0:\n",
    "    result = num * 2\n",
    "else:\n",
    "    result = num * 3 + 1\n",
    "print(\"відповідь:\", result)"
   ],
   "outputs": [
    {
     "name": "stdout",
     "output_type": "stream",
     "text": [
      "відповідь: 4\n"
     ]
    }
   ],
   "execution_count": 61
  },
  {
   "cell_type": "markdown",
   "source": [
    "2. (9б) Створіть змінну, що посилається на список. Якщо список пустий, додайте будь-який елемент у кінець списку. Якщо ж ні, то нічого не робіть."
   ],
   "metadata": {
    "id": "H669P0QK5BI_"
   }
  },
  {
   "cell_type": "code",
   "source": [
    "my_list = [\"всі автомобілі\"]\n",
    "if not my_list:\n",
    "    my_list.append(\"велосипед\")\n",
    "print(my_list)"
   ],
   "metadata": {
    "id": "ecWlfra45f6E",
    "ExecuteTime": {
     "end_time": "2025-02-27T14:46:54.536398Z",
     "start_time": "2025-02-27T14:46:54.534040Z"
    }
   },
   "outputs": [
    {
     "name": "stdout",
     "output_type": "stream",
     "text": [
      "['всі автомобілі']\n"
     ]
    }
   ],
   "execution_count": 62
  },
  {
   "cell_type": "markdown",
   "source": [
    "3. (13б) Створіть рядок зі своїм імʼям латинкою. Напишіть код, який би автоматизовував наступну задачу.\n",
    "\n",
    "Якщо в імені є літера \"а\"\n",
    " або \"i\", Виведіть на екран повідомлення \"A or I is in the name\".\n",
    "\n",
    "\n",
    "\n",
    "Якщо в імені є літери \"o\" та \"n\", Виведіть на екран повідомлення \"O and N is in the name\".\n",
    "\n",
    "Також якщо в імені немає літери \"о\", але є \"n\", Виведіть на екран повідомлення \"Only N is in the name\".\n",
    "\n",
    "В решті випадків виведіть на екран повідомлення \"There is no N in the name, but there might be O\".\n",
    "\n",
    "Зверніть увагу, що, наприклад, для імені \"Antonina\" буде виведено два повідомлення."
   ],
   "metadata": {
    "id": "h9Y3cMUd5h85"
   }
  },
  {
   "cell_type": "code",
   "source": [
    "name = \"Arina\"\n",
    "if \"a\" in name.lower() or \"i\" in name.lower():\n",
    "    print(\"A or I is in the name\")\n",
    "if \"o\" in name.lower() and \"n\" in name.lower():\n",
    "    print(\"O and N is in the name\")\n",
    "elif \"n\" in name.lower():\n",
    "    print(\"Only N is in the name\")\n",
    "else:\n",
    "    print(\"There is no N in the name, but there might be O\")"
   ],
   "metadata": {
    "id": "bUH4LUx35u52",
    "ExecuteTime": {
     "end_time": "2025-02-27T14:46:54.557368Z",
     "start_time": "2025-02-27T14:46:54.555032Z"
    }
   },
   "outputs": [
    {
     "name": "stdout",
     "output_type": "stream",
     "text": [
      "A or I is in the name\n",
      "Only N is in the name\n"
     ]
    }
   ],
   "execution_count": 63
  },
  {
   "cell_type": "markdown",
   "source": [
    "# II. Comprehensions."
   ],
   "metadata": {
    "id": "wPCXJv4354cU"
   }
  },
  {
   "cell_type": "markdown",
   "source": [
    "4. (5б) Створіть список, використовуючи if (не if-else), range та comprehension."
   ],
   "metadata": {
    "id": "jULLW5jN55Pw"
   }
  },
  {
   "cell_type": "code",
   "source": [
    "n = [x for x in range(10) if x > 5]\n",
    "print(n)"
   ],
   "metadata": {
    "id": "mlZalnVC6W3F",
    "ExecuteTime": {
     "end_time": "2025-02-27T14:46:54.574100Z",
     "start_time": "2025-02-27T14:46:54.572219Z"
    }
   },
   "outputs": [
    {
     "name": "stdout",
     "output_type": "stream",
     "text": [
      "[6, 7, 8, 9]\n"
     ]
    }
   ],
   "execution_count": 64
  },
  {
   "cell_type": "markdown",
   "source": [
    "5. (9б) Створіть словник, використовуючи dict comprehension, що містить if else. Коли слід використовувати comprehensions, а коли їх слід уникати?"
   ],
   "metadata": {
    "id": "LqhEQ4JW6XcC"
   }
  },
  {
   "cell_type": "code",
   "source": [
    "n = range(8)\n",
    "dict_comp = {x: \"even\" if x % 2 == 0 else \"odd\" for x in n}\n",
    "print(dict_comp)"
   ],
   "metadata": {
    "id": "1yVaFbOs6hta",
    "ExecuteTime": {
     "end_time": "2025-02-27T14:46:54.587097Z",
     "start_time": "2025-02-27T14:46:54.584888Z"
    }
   },
   "outputs": [
    {
     "name": "stdout",
     "output_type": "stream",
     "text": [
      "{0: 'even', 1: 'odd', 2: 'even', 3: 'odd', 4: 'even', 5: 'odd', 6: 'even', 7: 'odd'}\n"
     ]
    }
   ],
   "execution_count": 65
  },
  {
   "cell_type": "markdown",
   "source": [
    "*місце для відповіді- Comprehensions слід використовувати, коли потрібно створити новий список, словник або множину на основі ітерації, особливо якщо операція проста і не має складних вкладень. Вони роблять код коротшим і більш читабельним.\n",
    "Однак, якщо вираз містить занадто багато вкладених умов або викликів функцій, слід уникати comprehensions, оскільки вони можуть ускладнювати розуміння коду. У таких випадках краще використовувати звичайний цикл `for`."
   ],
   "metadata": {
    "id": "wbkzNhKq6hzz"
   }
  },
  {
   "cell_type": "markdown",
   "source": [
    "6. (9б) Створіть список з рядками та запишіть його у змінну. Створіть ще один список на основі попереднього, де кожен рядок буде містити тільки три перших заглавних символи. Наприклад: ['hello', 'i', 'dont', 'care'] -> ['HEL', 'I', 'DON', 'CAR']. Використання comprehensions обовʼязкове."
   ],
   "metadata": {
    "id": "ZlqB8G3G6lHP"
   }
  },
  {
   "cell_type": "code",
   "source": [
    "words = ['hello', 'i', 'dont', 'care']\n",
    "new_words = [word[:3].upper() for word in words]\n",
    "print(new_words)"
   ],
   "metadata": {
    "id": "nw6rz0bR60VC",
    "ExecuteTime": {
     "end_time": "2025-02-27T14:46:54.599336Z",
     "start_time": "2025-02-27T14:46:54.597230Z"
    }
   },
   "outputs": [
    {
     "name": "stdout",
     "output_type": "stream",
     "text": [
      "['HEL', 'I', 'DON', 'CAR']\n"
     ]
    }
   ],
   "execution_count": 66
  },
  {
   "cell_type": "markdown",
   "source": [
    "# III. Цикли."
   ],
   "metadata": {
    "id": "Tj573IAH64Fz"
   }
  },
  {
   "cell_type": "markdown",
   "source": [
    "7. (5б) Продемонструйте роботу циклу while. Не можна використовувати True для запуску циклу, щоб уникнути безкінечного циклу!"
   ],
   "metadata": {
    "id": "tN_33xdE65H5"
   }
  },
  {
   "cell_type": "code",
   "source": [
    "x = 7\n",
    "while x > 0:\n",
    "    print(f\"Залишилося {x} цукерок\")\n",
    "    x -= 1\n",
    "print(\"Цукерок більше немає!\")"
   ],
   "metadata": {
    "id": "Kd9FO6yG63P5",
    "ExecuteTime": {
     "end_time": "2025-02-27T14:46:54.616055Z",
     "start_time": "2025-02-27T14:46:54.613847Z"
    }
   },
   "outputs": [
    {
     "name": "stdout",
     "output_type": "stream",
     "text": [
      "Залишилося 7 цукерок\n",
      "Залишилося 6 цукерок\n",
      "Залишилося 5 цукерок\n",
      "Залишилося 4 цукерок\n",
      "Залишилося 3 цукерок\n",
      "Залишилося 2 цукерок\n",
      "Залишилося 1 цукерок\n",
      "Цукерок більше немає!\n"
     ]
    }
   ],
   "execution_count": 67
  },
  {
   "cell_type": "markdown",
   "source": [
    "8. (5б) Напишіть програму, яка виведе на екран непарні числа в діапазоні від 0 до 20 включно."
   ],
   "metadata": {
    "id": "x2CmfZO-7pW0"
   }
  },
  {
   "cell_type": "code",
   "source": [
    "for number in range(21):\n",
    "    if number % 2 != 0:\n",
    "        print(number)"
   ],
   "metadata": {
    "id": "aCSRYA6s7tkF",
    "ExecuteTime": {
     "end_time": "2025-02-27T14:46:54.637144Z",
     "start_time": "2025-02-27T14:46:54.635079Z"
    }
   },
   "outputs": [
    {
     "name": "stdout",
     "output_type": "stream",
     "text": [
      "1\n",
      "3\n",
      "5\n",
      "7\n",
      "9\n",
      "11\n",
      "13\n",
      "15\n",
      "17\n",
      "19\n"
     ]
    }
   ],
   "execution_count": 68
  },
  {
   "cell_type": "markdown",
   "source": [
    "9. (13б) Створіть список з елементами булевого типу або None. Використовуючи цикли, отримайте в результаті список з кортежами, де перший елемент кортежу - індекс(ціле число), а другий елемент - відповідне значення з першого списку.\n",
    "\n",
    "Наприклад, [True, True, None, False] -> [(0, True), (1, True), (2, None), (3, False)]"
   ],
   "metadata": {
    "id": "MDWNocZD7t_B"
   }
  },
  {
   "cell_type": "code",
   "source": [
    "values = [True, False, None, True]\n",
    "result = [(index, value) for index, value in enumerate(values)]\n",
    "print(result)"
   ],
   "metadata": {
    "id": "0EUyjMdp7yfh",
    "ExecuteTime": {
     "end_time": "2025-02-27T14:46:54.654334Z",
     "start_time": "2025-02-27T14:46:54.652470Z"
    }
   },
   "outputs": [
    {
     "name": "stdout",
     "output_type": "stream",
     "text": [
      "[(0, True), (1, False), (2, None), (3, True)]\n"
     ]
    }
   ],
   "execution_count": 69
  },
  {
   "cell_type": "markdown",
   "source": [
    "10. (9б) Створіть словник, де ключі - назви книжок, а значення - їхня кількість у наявності в Вашій міні-бібліотеці. Бібліотека має містити щонайменше 6 книжок (6 пар значень у словнику) і щонайбільше 10 (пар значень). Використовуючи цикли, оновіть словник (не створюйте новий) так, щоби кількість книг у наявності збільшилося на 5 кожної книги. Наприклад,\n",
    "{'It': 3, 'Fault stars': 10, 'Bible': 17, 'Psychological romance': 4, 'Harry Potter': 13} -> {'It': 8, 'Fault stars': 15, 'Bible': 22, 'Psychological romance': 9, 'Harry Potter': 18}"
   ],
   "metadata": {
    "id": "-6XUqlcG7zKs"
   }
  },
  {
   "cell_type": "code",
   "source": [
    "library = {\n",
    "    \"It\": 3,\n",
    "    \"Fault stars\": 10,\n",
    "    \"Bible\": 17,\n",
    "    \"Psychological romance\": 4,\n",
    "    \"Harry Potter\": 13,\n",
    "    \"War and Peace\": 7\n",
    "}\n",
    "for book in library:\n",
    "    library[book] += 5\n",
    "print(library)"
   ],
   "metadata": {
    "id": "Ceoj9wwb791q",
    "ExecuteTime": {
     "end_time": "2025-02-27T14:46:54.672753Z",
     "start_time": "2025-02-27T14:46:54.670523Z"
    }
   },
   "outputs": [
    {
     "name": "stdout",
     "output_type": "stream",
     "text": [
      "{'It': 8, 'Fault stars': 15, 'Bible': 22, 'Psychological romance': 9, 'Harry Potter': 18, 'War and Peace': 12}\n"
     ]
    }
   ],
   "execution_count": 70
  },
  {
   "cell_type": "markdown",
   "source": [
    "11. (5б) Визначте цілочислену змінну n, що належить проміжку від 4 до 10 включно. Використовуючи цикли, виведіть в консоль наступний патерн.\n",
    "\n",
    "#\n",
    "##\n",
    "###\n",
    "####\n",
    "\n",
    "... #*n\n"
   ],
   "metadata": {
    "id": "QLzyJM288AC7"
   }
  },
  {
   "cell_type": "code",
   "source": [
    "n = 8\n",
    "for i in range(1, n + 1):\n",
    "    print(\"#\" * i)"
   ],
   "metadata": {
    "id": "KOpng87s8Duz",
    "ExecuteTime": {
     "end_time": "2025-02-27T14:46:54.690534Z",
     "start_time": "2025-02-27T14:46:54.688508Z"
    }
   },
   "outputs": [
    {
     "name": "stdout",
     "output_type": "stream",
     "text": [
      "#\n",
      "##\n",
      "###\n",
      "####\n",
      "#####\n",
      "######\n",
      "#######\n",
      "########\n"
     ]
    }
   ],
   "execution_count": 71
  },
  {
   "cell_type": "markdown",
   "source": [
    "12. (13б) Гра \"Нумо вгадай\".\n",
    "Розробіть просту гру, де користувач має вгадати випадкове число від 1 до 100. Для генерації випадкового числа використовуйте функцію random.randint(a, b) (тут a та b включно). Для отримання числа з консолі використовуйте функцію input(), результат якої обовʼязково явно приведіть до типу int.\n",
    "\n",
    "Підказка: використовуйте цикл while та умови if-else, щоб повідомити користувачу піказки (напр. \"Більше\", \"Менше\") поки користувач не вгадає. По завершенню виведіть кількість спроб, які знадобилися для вгадування."
   ],
   "metadata": {
    "id": "_bd-bqAT8EHn"
   }
  },
  {
   "cell_type": "code",
   "source": [
    "import random\n",
    "secret_number = random.randint(1, 100)\n",
    "attempts = 0\n",
    "print(\"Спробуй вгадати загадане число від 1 до 100\")\n",
    "while True:\n",
    "    guess = int(input(\"Введіть число:\"))\n",
    "    attempts += 1\n",
    "    if guess < secret_number:\n",
    "        print(\"Більше\")\n",
    "    elif guess > secret_number:\n",
    "        print(\"Менше\")\n",
    "    else:\n",
    "        print(f\"Число {secret_number} вгадане за {attempts} спроб.\")\n",
    "        break"
   ],
   "metadata": {
    "id": "IK9nnxFK8Hkl",
    "ExecuteTime": {
     "end_time": "2025-02-27T14:47:34.064349Z",
     "start_time": "2025-02-27T14:46:54.708798Z"
    }
   },
   "outputs": [
    {
     "name": "stdout",
     "output_type": "stream",
     "text": [
      "Спробуй вгадати загадане число від 1 до 100\n",
      "Більше\n",
      "Більше\n",
      "Менше\n",
      "Менше\n",
      "Більше\n",
      "Більше\n",
      "Більше\n",
      "Більше\n",
      "Менше\n",
      "Більше\n",
      "Більше\n",
      "Більше\n",
      "Більше\n",
      "Число 84 вгадане за 14 спроб.\n"
     ]
    }
   ],
   "execution_count": 72
  },
  {
   "cell_type": "markdown",
   "source": [
    "# Вітаю! Ви велика(ий) молодець, що впоралась(вся). Похваліть себе та побалуйте чимось приємним. Я Вами пишаюся."
   ],
   "metadata": {
    "id": "PXoXWb7Z8IGi"
   }
  }
 ]
}
